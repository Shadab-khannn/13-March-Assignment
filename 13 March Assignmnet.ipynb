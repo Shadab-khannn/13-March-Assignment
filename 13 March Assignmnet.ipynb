{
 "cells": [
  {
   "cell_type": "code",
   "execution_count": null,
   "id": "a3e186a8-4eaf-4b14-90a4-da6421435a97",
   "metadata": {},
   "outputs": [],
   "source": [
    "Q1. Explain the assumptions required to use ANOVA and provide examples of violations that could impact\n",
    "the validity of the results."
   ]
  },
  {
   "cell_type": "markdown",
   "id": "c63dc829-df20-40c3-ab6a-5e0ef5eb94bd",
   "metadata": {},
   "source": [
    "ANS -"
   ]
  },
  {
   "cell_type": "code",
   "execution_count": null,
   "id": "106a7be8-9ba4-4640-8b6e-4dd979f077f6",
   "metadata": {},
   "outputs": [],
   "source": [
    "        ANOVA (Analysis of Variance) is a statistical method used to compare the means of three or more groups. The assumptions required to \n",
    "use ANOVA are:.\n",
    "\n",
    "Normality: The data should be normally distributed.\n",
    "\n",
    "Homogeneity of variance: The variance of the dependent variable should be equal across all levels of the independent variable.\n",
    "\n",
    "Independence: Observations should be independent of each other.\n",
    "\n",
    "If these assumptions are not met, the validity of the results may be impacted. For example, if the normality assumption is violated, then the\n",
    "results may not be reliable. Similarly, if the homogeneity of variance assumption is violated, then the results may not be accurate."
   ]
  },
  {
   "cell_type": "code",
   "execution_count": null,
   "id": "86b232e5-39f4-45ac-880f-7b18c6a02a64",
   "metadata": {},
   "outputs": [],
   "source": []
  },
  {
   "cell_type": "code",
   "execution_count": null,
   "id": "75864d0a-10ce-47c2-b109-5665b44fc16f",
   "metadata": {},
   "outputs": [],
   "source": []
  },
  {
   "cell_type": "code",
   "execution_count": null,
   "id": "1b7c1277-faa5-456a-9098-b9faa31d4a4f",
   "metadata": {},
   "outputs": [],
   "source": [
    "Q2. What are the three types of ANOVA, and in what situations would each be used?"
   ]
  },
  {
   "cell_type": "markdown",
   "id": "bfc5f1be-9675-46e5-82c1-a95d77d84b89",
   "metadata": {},
   "source": [
    "ANS -"
   ]
  },
  {
   "cell_type": "code",
   "execution_count": null,
   "id": "7545f594-f77a-4b47-89be-c781bc85c943",
   "metadata": {},
   "outputs": [],
   "source": [
    "       There are three types of ANOVA: **One-way ANOVA**, **Two-way ANOVA without replication**, and **Two-way ANOVA with replication**. \n",
    "\n",
    "-One-way ANOVA : is used when you want to test two groups to see if there’s a difference between them. \n",
    "\n",
    "-Two-way ANOVA without replication : is used when you have one group and you’re double-testing that same group. \n",
    "\n",
    "-Two-way ANOVA with replication : is used when you have two groups, and the members of those groups are doing more than one thing.\n",
    "\n"
   ]
  },
  {
   "cell_type": "code",
   "execution_count": null,
   "id": "defe909d-916e-4171-8d79-4e186332f081",
   "metadata": {},
   "outputs": [],
   "source": []
  },
  {
   "cell_type": "code",
   "execution_count": null,
   "id": "ad828031-7435-4d4d-a6df-68644a418856",
   "metadata": {},
   "outputs": [],
   "source": []
  },
  {
   "cell_type": "code",
   "execution_count": null,
   "id": "54fc70a2-f3c7-47b2-829e-b1ead247e494",
   "metadata": {},
   "outputs": [],
   "source": [
    "Q3. What is the partitioning of variance in ANOVA, and why is it important to understand this concept?"
   ]
  },
  {
   "cell_type": "markdown",
   "id": "fdb4a77f-fe6f-4aea-af10-0d2f33061f65",
   "metadata": {},
   "source": [
    "ANS -"
   ]
  },
  {
   "cell_type": "code",
   "execution_count": null,
   "id": "e2d1a540-e5fc-44a6-8467-304e60f115f6",
   "metadata": {},
   "outputs": [],
   "source": [
    "           The partitioning of variance in ANOVA is a statistical technique that partitions the total variance of a dataset into different \n",
    "components that are associated with different sources of variation. The observed variance in a particular variable is partitioned into \n",
    "components attributable to different sources of variation. In its simplest form, ANOVA provides a statistical test of whether two or more \n",
    "population means are equal, and therefore generalizes the t-test beyond two means1.\n",
    "\n",
    "    The partitioning of variance is important because it allows us to determine which sources of variation are significant and which are not. \n",
    "This information can be used to identify factors that are contributing to the variability in the data and to develop strategies for reducing\n",
    "this variability"
   ]
  },
  {
   "cell_type": "code",
   "execution_count": null,
   "id": "1c6fdcba-c2a2-49d4-a6d8-7f8be12861cf",
   "metadata": {},
   "outputs": [],
   "source": []
  },
  {
   "cell_type": "code",
   "execution_count": null,
   "id": "896658e9-3614-4072-a88d-63dd984fa276",
   "metadata": {},
   "outputs": [],
   "source": []
  },
  {
   "cell_type": "code",
   "execution_count": null,
   "id": "107c0020-55aa-4fe4-8e74-80147517a5cf",
   "metadata": {},
   "outputs": [],
   "source": [
    "Q4. How would you calculate the total sum of squares (SST), explained sum of squares (SSE), and residual\n",
    "sum of squares (SSR) in a one-way ANOVA using Python?"
   ]
  },
  {
   "cell_type": "markdown",
   "id": "9017fb48-4ea8-4e14-8e8e-0afbe458e9b2",
   "metadata": {},
   "source": [
    "ANS -"
   ]
  },
  {
   "cell_type": "code",
   "execution_count": 39,
   "id": "271627cd-31f5-4119-a587-68f06bcce3e1",
   "metadata": {},
   "outputs": [
    {
     "name": "stdout",
     "output_type": "stream",
     "text": [
      "SSE: 1.5\n",
      "SSR: 96.0\n",
      "SST: 97.5\n"
     ]
    }
   ],
   "source": [
    "import numpy as np\n",
    "import pandas as pd\n",
    "from scipy.stats import f\n",
    "\n",
    "# create a sample dataset\n",
    "data = {'group': ['A', 'A', 'B', 'B', 'C', 'C'],\n",
    "        'value': [1, 2, 3, 4, 5, 6]}\n",
    "df = pd.DataFrame(data)\n",
    "\n",
    "# calculate the mean of all observed values\n",
    "ymean = df['value'].mean()\n",
    "\n",
    "# calculate the predicted value for each observation\n",
    "df['yhat'] = df.groupby('group')['value'].transform('mean')\n",
    "\n",
    "# calculate SSE\n",
    "df['sse'] = (df['value'] - df['yhat'])**2\n",
    "sse = df['sse'].sum()\n",
    "\n",
    "# calculate SSR\n",
    "df['ssr'] = (df['yhat'] - ymean)**2 * len(df['value'].unique())\n",
    "ssr = df['ssr'].sum()\n",
    "\n",
    "# calculate SST\n",
    "sst = sse + ssr\n",
    "\n",
    "print(f\"SSE: {sse}\")\n",
    "print(f\"SSR: {ssr}\")\n",
    "print(f\"SST: {sst}\")\n"
   ]
  },
  {
   "cell_type": "code",
   "execution_count": null,
   "id": "3a2e31a5-20d0-4338-832e-307749283bf4",
   "metadata": {},
   "outputs": [],
   "source": []
  },
  {
   "cell_type": "code",
   "execution_count": null,
   "id": "ced50b1b-0ff2-4e36-9986-ca946ee5be69",
   "metadata": {},
   "outputs": [],
   "source": []
  },
  {
   "cell_type": "code",
   "execution_count": null,
   "id": "178750b2-3b7a-4a7c-8183-219289da8ec1",
   "metadata": {},
   "outputs": [],
   "source": [
    "Q6. Suppose you conducted a one-way ANOVA and obtained an F-statistic of 5.23 and a p-value of 0.02.\n",
    "What can you conclude about the differences between the groups, and how would you interpret these\n",
    "results?"
   ]
  },
  {
   "cell_type": "markdown",
   "id": "e935a176-d9ed-4dbf-bead-ad813df33458",
   "metadata": {},
   "source": [
    "ANS -"
   ]
  },
  {
   "cell_type": "code",
   "execution_count": null,
   "id": "50c36ba1-0f65-4ed7-a480-846211c4586c",
   "metadata": {},
   "outputs": [],
   "source": [
    "           In one-way ANOVA, the F-statistic is used to test the null hypothesis that all group means are equal. The p-value is the probability\n",
    "of observing a test statistic as extreme as the one calculated from your data, assuming that the null hypothesis is true. If the p-value is \n",
    "less than the significance level (usually 0.05), then you can reject the null hypothesis and conclude that there is evidence of a difference\n",
    "between at least two groups .\n",
    "    An F-statistic of 5.23 and a p-value of 0.02 suggests that there is evidence of a difference between at least two groups ². However, its \n",
    "important to note that ANOVA only tells you whether there is a difference between groups, not which groups are different from each other.\n",
    "To determine which groups are different from each other, you would need to perform post-hoc test."
   ]
  },
  {
   "cell_type": "code",
   "execution_count": null,
   "id": "b3755d99-4169-47ac-ac32-e1e8c4f1480c",
   "metadata": {},
   "outputs": [],
   "source": []
  },
  {
   "cell_type": "code",
   "execution_count": null,
   "id": "c3e6f473-954b-4c21-a7e6-939b94fe93f2",
   "metadata": {},
   "outputs": [],
   "source": []
  },
  {
   "cell_type": "code",
   "execution_count": null,
   "id": "d454a8f9-9f78-46fe-9453-5c0c1c755be8",
   "metadata": {},
   "outputs": [],
   "source": [
    "Q7. In a repeated measures ANOVA, how would you handle missing data, and what are the potential\n",
    "consequences of using different methods to handle missing data?"
   ]
  },
  {
   "cell_type": "markdown",
   "id": "9adcadff-568e-408f-be7b-b1278a216a42",
   "metadata": {},
   "source": [
    "ANS -"
   ]
  },
  {
   "cell_type": "code",
   "execution_count": null,
   "id": "82e9de9c-6d00-4b6d-ba96-abdc401da7fb",
   "metadata": {},
   "outputs": [],
   "source": [
    "        In repeated measures ANOVA, missing data can be a serious problem. One of the biggest problems with traditional repeated measures\n",
    "ANOVA is missing data on the response variable. The problem is that repeated measures ANOVA treats each measurement as a separate variable. \n",
    "Because it uses listwise deletion, if one measurement is missing, the entire case gets dropped.\n",
    "\n",
    "   There are different methods to handle missing data in repeated measures ANOVA. One method is to use listwise deletion which means that if \n",
    "any of the observations for a subject are missing, the entire subject will be omitted from the analysis. Another method is to use imputation\n",
    "methods such as mean imputation or regression imputation.\n",
    "\n",
    "  The potential consequences of using different methods to handle missing data are that it can lead to biased estimates of parameters and \n",
    "standard errors1. It can also lead to a loss of power and efficiency in the analysis."
   ]
  },
  {
   "cell_type": "code",
   "execution_count": null,
   "id": "5e8595ea-e750-4b33-86d4-e0e49f4e6012",
   "metadata": {},
   "outputs": [],
   "source": []
  },
  {
   "cell_type": "code",
   "execution_count": null,
   "id": "552a787f-a09d-4671-8b36-29d878091f8f",
   "metadata": {},
   "outputs": [],
   "source": []
  },
  {
   "cell_type": "code",
   "execution_count": null,
   "id": "140d44f2-04d7-4e27-9d34-0944364b387d",
   "metadata": {},
   "outputs": [],
   "source": [
    "Q8. What are some common post-hoc tests used after ANOVA, and when would you use each one? Provide\n",
    "an example of a situation where a post-hoc test might be necessary."
   ]
  },
  {
   "cell_type": "markdown",
   "id": "49e45e17-a13f-4608-aa82-3fa9f83fdde3",
   "metadata": {},
   "source": [
    "ANS -"
   ]
  },
  {
   "cell_type": "code",
   "execution_count": null,
   "id": "e4449ba1-1390-4df8-a2f7-f435ed0eb283",
   "metadata": {},
   "outputs": [],
   "source": [
    "  There are several post-hoc tests that can be used after ANOVA. Some of the most common ones are:\n",
    "\n",
    "-Bonferroni Procedure\n",
    "-Duncan’s new multiple range test (MRT)\n",
    "-Fisher’s Least Significant Difference (LSD)\n",
    "-Holm-Bonferroni Procedure\n",
    "-Newman-Keuls\n",
    "-Rodger’s Method\n",
    "-Scheffe’s Method\n",
    "-Tukey’s Procedure\n",
    "-Each of these tests has its own strengths and weaknesses. For example, Tukey’s HSD (“honestly significant difference”) is the most common \n",
    "post hoc test for ANOVA. It is useful when you want to make every possible pairwise comparison.\n",
    "\n",
    "   A post-hoc test might be necessary when you have found a significant difference between groups in an ANOVA analysis. The post-hoc test will \n",
    "help you determine which groups are significantly different from each other."
   ]
  },
  {
   "cell_type": "code",
   "execution_count": null,
   "id": "b4a35df7-6524-4c25-87e9-623d8e22b031",
   "metadata": {},
   "outputs": [],
   "source": []
  },
  {
   "cell_type": "code",
   "execution_count": null,
   "id": "27b7a97d-0837-400a-b78d-0600316b14c7",
   "metadata": {},
   "outputs": [],
   "source": []
  },
  {
   "cell_type": "code",
   "execution_count": null,
   "id": "5eeb6cf1-32f4-419d-b739-d28b771a671d",
   "metadata": {},
   "outputs": [],
   "source": [
    "Q9. A researcher wants to compare the mean weight loss of three diets: A, B, and C. They collect data from\n",
    "50 participants who were randomly assigned to one of the diets. Conduct a one-way ANOVA using Python\n",
    "to determine if there are any significant differences between the mean weight loss of the three diets.\n",
    "Report the F-statistic and p-value, and interpret the results."
   ]
  },
  {
   "cell_type": "markdown",
   "id": "62e3ea50-8071-472d-91ed-61dcb289d0fb",
   "metadata": {},
   "source": [
    "ANS -"
   ]
  },
  {
   "cell_type": "code",
   "execution_count": 20,
   "id": "5750c6d7-f18c-4145-bc11-062af0cc50c3",
   "metadata": {},
   "outputs": [
    {
     "name": "stdout",
     "output_type": "stream",
     "text": [
      "F-statistic: 2.0\n",
      "p-value: 0.177978515625\n"
     ]
    }
   ],
   "source": [
    "import scipy.stats as stats\n",
    "\n",
    "# Create data arrays for each group\n",
    "group_a = [1, 2, 3, 4, 5]\n",
    "group_b = [2, 3, 4, 5, 6]\n",
    "group_c = [3, 4, 5, 6, 7]\n",
    "\n",
    "# Perform one-way ANOVA test\n",
    "f_statistic, p_value = stats.f_oneway(group_a, group_b, group_c)\n",
    "\n",
    "# Print F-statistic and p-value\n",
    "print(\"F-statistic:\", f_statistic)\n",
    "print(\"p-value:\", p_value)\n"
   ]
  },
  {
   "cell_type": "code",
   "execution_count": null,
   "id": "8a9fb789-f205-4752-8baf-4b0f80998a09",
   "metadata": {},
   "outputs": [],
   "source": [
    "   If the p-value is less than your chosen significance level (e.g., 0.05), then you can reject the null hypothesis and conclude that there is\n",
    "a statistically significant difference between at least two of the population means. Otherwise, you fail to reject the null hypothesis and \n",
    "conclude that there is insufficient evidence to suggest that there is a difference between any of the population means."
   ]
  },
  {
   "cell_type": "code",
   "execution_count": null,
   "id": "1b19c138-2f05-43b9-b324-1bfbcaec2263",
   "metadata": {},
   "outputs": [],
   "source": []
  },
  {
   "cell_type": "code",
   "execution_count": null,
   "id": "7be356c4-dd3f-461f-98c5-6d16170d77a2",
   "metadata": {},
   "outputs": [],
   "source": []
  },
  {
   "cell_type": "code",
   "execution_count": null,
   "id": "f3741884-d9c5-489e-915e-9cbb5e2c3279",
   "metadata": {},
   "outputs": [],
   "source": [
    "Q10. A company wants to know if there are any significant differences in the average time it takes to\n",
    "complete a task using three different software programs: Program A, Program B, and Program C. They\n",
    "randomly assign 30 employees to one of the programs and record the time it takes each employee to\n",
    "complete the task. Conduct a two-way ANOVA using Python to determine if there are any main effects or\n",
    "interaction effects between the software programs and employee experience level (novice vs.\n",
    "experienced). Report the F-statistics and p-values, and interpret the results."
   ]
  },
  {
   "cell_type": "markdown",
   "id": "12f51d5a-ae82-485e-bfc8-beeeb22c1835",
   "metadata": {},
   "source": [
    "ANS -"
   ]
  },
  {
   "cell_type": "code",
   "execution_count": 21,
   "id": "1e562864-98ac-4ec6-8a96-771094e1e7d0",
   "metadata": {},
   "outputs": [],
   "source": [
    "import numpy as np\n",
    "import pandas as pd"
   ]
  },
  {
   "cell_type": "code",
   "execution_count": 22,
   "id": "90a4630e-1bbb-4047-8d38-852d666dba06",
   "metadata": {},
   "outputs": [],
   "source": [
    "df = pd.DataFrame({\n",
    "    'Software': ['A', 'B', 'C'] * 10,\n",
    "    'Experience': ['Novice'] * 15 + ['Experienced'] * 15,\n",
    "    'Time': [10, 12, 13, 11, 14, 15, 12, 13, 14, 15] * 3\n",
    "})"
   ]
  },
  {
   "cell_type": "code",
   "execution_count": 23,
   "id": "45a753ca-d541-4d46-829b-77ef756a4ddb",
   "metadata": {},
   "outputs": [],
   "source": [
    "from statsmodels.formula.api import ols\n",
    "\n",
    "model = ols('Time ~ C(Software) + C(Experience) + C(Software):C(Experience)', data=df).fit()"
   ]
  },
  {
   "cell_type": "code",
   "execution_count": 24,
   "id": "06603754-c844-4477-b83f-aa97bac4ddb1",
   "metadata": {},
   "outputs": [],
   "source": [
    "from statsmodels.stats.anova import anova_lm\n",
    "\n",
    "anova_results = anova_lm(model)"
   ]
  },
  {
   "cell_type": "code",
   "execution_count": null,
   "id": "e4e08cc0-d6df-43fc-97ce-c4e7a770623d",
   "metadata": {},
   "outputs": [],
   "source": [
    "   The F-statistics and p-values can be obtained from anova_results. The main effects and interaction effects between software programs and \n",
    "employee experience level can be interpreted based on these values."
   ]
  },
  {
   "cell_type": "code",
   "execution_count": null,
   "id": "089422b6-4569-4c99-b56b-56edf3dc333b",
   "metadata": {},
   "outputs": [],
   "source": []
  },
  {
   "cell_type": "code",
   "execution_count": null,
   "id": "d78d92a8-844d-46c4-be9c-4458e80d9226",
   "metadata": {},
   "outputs": [],
   "source": []
  },
  {
   "cell_type": "code",
   "execution_count": null,
   "id": "fe548fd7-bfc9-480c-bf40-c20c1e7d1be8",
   "metadata": {},
   "outputs": [],
   "source": [
    "Q11. An educational researcher is interested in whether a new teaching method improves student test\n",
    "scores. They randomly assign 100 students to either the control group (traditional teaching method) or the\n",
    "experimental group (new teaching method) and administer a test at the end of the semester. Conduct a\n",
    "two-sample t-test using Python to determine if there are any significant differences in test scores\n",
    "between the two groups. If the results are significant, follow up with a post-hoc test to determine which\n",
    "group(s) differ significantly from each other."
   ]
  },
  {
   "cell_type": "markdown",
   "id": "b95411ba-0cde-4da5-9858-0faa971efbca",
   "metadata": {},
   "source": [
    "ANS -"
   ]
  },
  {
   "cell_type": "code",
   "execution_count": 25,
   "id": "2ede0712-6c6c-45d7-b142-7497f27a9f54",
   "metadata": {},
   "outputs": [
    {
     "name": "stdout",
     "output_type": "stream",
     "text": [
      "t-statistic:  -2.0\n",
      "p-value:  0.08051623795726257\n"
     ]
    }
   ],
   "source": [
    "import scipy.stats as stats\n",
    "\n",
    "control_group = [80, 85, 90, 95, 100]\n",
    "experimental_group = [90, 95, 100, 105, 110]\n",
    "\n",
    "t_statistic, p_value = stats.ttest_ind(control_group, experimental_group)\n",
    "\n",
    "print(\"t-statistic: \", t_statistic)\n",
    "print(\"p-value: \", p_value)\n"
   ]
  },
  {
   "cell_type": "code",
   "execution_count": null,
   "id": "0ea533ab-ff53-406d-9fd7-6aebbb100318",
   "metadata": {},
   "outputs": [],
   "source": [
    "      If the p-value is less than the significance level (usually 0.05), then we can reject the null hypothesis and conclude that there is a \n",
    "significant difference between the two groups.\n",
    "\n",
    "If the results are significant, you can follow up with a post-hoc test to determine which group(s) differ significantly from each other.\n",
    "\n"
   ]
  },
  {
   "cell_type": "code",
   "execution_count": null,
   "id": "a9cc47b8-c4e1-4bc9-aa65-18a100a4f7da",
   "metadata": {},
   "outputs": [],
   "source": []
  },
  {
   "cell_type": "code",
   "execution_count": null,
   "id": "b865d155-98ed-4103-884e-fe9bcfe3e7a8",
   "metadata": {},
   "outputs": [],
   "source": []
  },
  {
   "cell_type": "code",
   "execution_count": null,
   "id": "66026a2b-ec28-4ca0-987b-fe8f5e70cf42",
   "metadata": {},
   "outputs": [],
   "source": [
    "Q12. A researcher wants to know if there are any significant differences in the average daily sales of three\n",
    "retail stores: Store A, Store B, and Store C. They randomly select 30 days and record the sales for each store\n",
    "on those days. Conduct a repeated measures ANOVA using Python to determine if there are any\n",
    "\n",
    "significant differences in sales between the three stores. If the results are significant, follow up with a post-\n",
    "hoc test to determine which store(s) differ significantly from each other."
   ]
  },
  {
   "cell_type": "markdown",
   "id": "79727d1e-6fc7-463c-83ed-312088e6c84b",
   "metadata": {},
   "source": [
    "ANS -"
   ]
  },
  {
   "cell_type": "code",
   "execution_count": 33,
   "id": "2effc64d-bf0c-48c8-ab22-8d6c28a57144",
   "metadata": {},
   "outputs": [
    {
     "name": "stdout",
     "output_type": "stream",
     "text": [
      "          sum_sq    df      F        PR(>F)\n",
      "C(store)   240.0   2.0  174.0  3.933732e-31\n",
      "Residual    60.0  87.0    NaN           NaN\n"
     ]
    }
   ],
   "source": [
    "import pandas as pd\n",
    "import statsmodels.api as sm\n",
    "from statsmodels.formula.api import ols\n",
    "\n",
    "# create a dataframe with the data\n",
    "data = {'store': ['A', 'B', 'C'] * 30,\n",
    "        'sales': [10, 12, 8, 11, 13, 9, 9, 11, 7] * 10}\n",
    "df = pd.DataFrame(data)\n",
    "\n",
    "# fit the model\n",
    "model = ols('sales ~ C(store)', data=df).fit()\n",
    "\n",
    "# perform the ANOVA\n",
    "anova_table = sm.stats.anova_lm(model, typ=2)\n",
    "\n",
    "print(anova_table)"
   ]
  },
  {
   "cell_type": "code",
   "execution_count": 34,
   "id": "878bb5cd-fb0d-43e3-b440-7debbf59b3f7",
   "metadata": {},
   "outputs": [
    {
     "name": "stdout",
     "output_type": "stream",
     "text": [
      "Multiple Comparison of Means - Tukey HSD, FWER=0.05\n",
      "===================================================\n",
      "group1 group2 meandiff p-adj  lower   upper  reject\n",
      "---------------------------------------------------\n",
      "     A      B      2.0   0.0  1.4887  2.5113   True\n",
      "     A      C     -2.0   0.0 -2.5113 -1.4887   True\n",
      "     B      C     -4.0   0.0 -4.5113 -3.4887   True\n",
      "---------------------------------------------------\n"
     ]
    }
   ],
   "source": [
    "from statsmodels.stats.multicomp import pairwise_tukeyhsd\n",
    "\n",
    "# perform Tukey's HSD test\n",
    "tukey_results = pairwise_tukeyhsd(df['sales'], df['store'])\n",
    "\n",
    "print(tukey_results)"
   ]
  },
  {
   "cell_type": "code",
   "execution_count": null,
   "id": "fcc423cd-0792-4574-8560-fa4ab4e06687",
   "metadata": {},
   "outputs": [],
   "source": []
  }
 ],
 "metadata": {
  "kernelspec": {
   "display_name": "Python 3 (ipykernel)",
   "language": "python",
   "name": "python3"
  },
  "language_info": {
   "codemirror_mode": {
    "name": "ipython",
    "version": 3
   },
   "file_extension": ".py",
   "mimetype": "text/x-python",
   "name": "python",
   "nbconvert_exporter": "python",
   "pygments_lexer": "ipython3",
   "version": "3.10.8"
  }
 },
 "nbformat": 4,
 "nbformat_minor": 5
}
